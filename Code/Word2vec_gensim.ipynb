{
 "cells": [
  {
   "cell_type": "markdown",
   "metadata": {
    "colab_type": "text",
    "id": "4Da8BjdgWcQR"
   },
   "source": [
    "# Word2Vec + ML Classifier (Gensim)"
   ]
  },
  {
   "cell_type": "code",
   "execution_count": 17,
   "metadata": {
    "colab": {
     "base_uri": "https://localhost:8080/",
     "height": 52
    },
    "colab_type": "code",
    "id": "X8GRoVnIWcQS",
    "outputId": "8c2afca8-88a6-498f-c454-8f410ba34120"
   },
   "outputs": [
    {
     "name": "stdout",
     "output_type": "stream",
     "text": [
      "[nltk_data] Downloading package stopwords to /root/nltk_data...\n",
      "[nltk_data]   Package stopwords is already up-to-date!\n"
     ]
    }
   ],
   "source": [
    "## Run the following cell to download pretrained model and stopwords\n",
    "\n",
    "import nltk\n",
    "nltk.download('stopwords')\n",
    "!wget https://s3.amazonaws.com/dl4j-distribution/GoogleNews-vectors-negative300.bin.gz \n",
    "!gunzip /content/GoogleNews-vectors-negative300.bin.gz"
   ]
  },
  {
   "cell_type": "code",
   "execution_count": 11,
   "metadata": {
    "colab": {},
    "colab_type": "code",
    "id": "tQ11AZ7ZWcQX"
   },
   "outputs": [],
   "source": [
    "## Download and import libraries\n",
    "import pandas as pd\n",
    "import numpy as np\n",
    "import nltk\n",
    "from sklearn.metrics import accuracy_score\n",
    "from sklearn.ensemble import RandomForestClassifier\n",
    "from sklearn.model_selection import train_test_split\n",
    "from sklearn.metrics import classification_report\n",
    "from nltk.corpus import stopwords\n",
    "from nltk.tokenize import word_tokenize\n",
    "import gensim\n"
   ]
  },
  {
   "cell_type": "markdown",
   "metadata": {
    "colab_type": "text",
    "id": "-n_nv6fwWcQa"
   },
   "source": [
    "### Dataset"
   ]
  },
  {
   "cell_type": "code",
   "execution_count": 12,
   "metadata": {
    "colab": {
     "base_uri": "https://localhost:8080/",
     "height": 415
    },
    "colab_type": "code",
    "id": "-nt_FBjDWcQb",
    "outputId": "352a0c78-e080-4202-f4cf-aa253bbc1cdb"
   },
   "outputs": [
    {
     "data": {
      "text/html": [
       "<div>\n",
       "<style scoped>\n",
       "    .dataframe tbody tr th:only-of-type {\n",
       "        vertical-align: middle;\n",
       "    }\n",
       "\n",
       "    .dataframe tbody tr th {\n",
       "        vertical-align: top;\n",
       "    }\n",
       "\n",
       "    .dataframe thead th {\n",
       "        text-align: right;\n",
       "    }\n",
       "</style>\n",
       "<table border=\"1\" class=\"dataframe\">\n",
       "  <thead>\n",
       "    <tr style=\"text-align: right;\">\n",
       "      <th></th>\n",
       "      <th>sentence</th>\n",
       "      <th>label</th>\n",
       "    </tr>\n",
       "  </thead>\n",
       "  <tbody>\n",
       "    <tr>\n",
       "      <th>0</th>\n",
       "      <td>living in a concentration camp-like atmosphere...</td>\n",
       "      <td>1</td>\n",
       "    </tr>\n",
       "    <tr>\n",
       "      <th>1</th>\n",
       "      <td>there's even a nod to \" the blues brothers , \"...</td>\n",
       "      <td>1</td>\n",
       "    </tr>\n",
       "    <tr>\n",
       "      <th>2</th>\n",
       "      <td>park , lord , and screenwriter karey kirkpatri...</td>\n",
       "      <td>1</td>\n",
       "    </tr>\n",
       "    <tr>\n",
       "      <th>3</th>\n",
       "      <td>ginger is perfect , spunky and opinionated , b...</td>\n",
       "      <td>2</td>\n",
       "    </tr>\n",
       "    <tr>\n",
       "      <th>4</th>\n",
       "      <td>jane horrocks delivers a lovely voice characte...</td>\n",
       "      <td>2</td>\n",
       "    </tr>\n",
       "    <tr>\n",
       "      <th>...</th>\n",
       "      <td>...</td>\n",
       "      <td>...</td>\n",
       "    </tr>\n",
       "    <tr>\n",
       "      <th>1655</th>\n",
       "      <td>lin shae , who plays mary's neighbor magda ( a...</td>\n",
       "      <td>2</td>\n",
       "    </tr>\n",
       "    <tr>\n",
       "      <th>1656</th>\n",
       "      <td>steve martin took an extended vacation from al...</td>\n",
       "      <td>2</td>\n",
       "    </tr>\n",
       "    <tr>\n",
       "      <th>1657</th>\n",
       "      <td>much of the book spares tinseltown from mocker...</td>\n",
       "      <td>2</td>\n",
       "    </tr>\n",
       "    <tr>\n",
       "      <th>1658</th>\n",
       "      <td>now , as writer and star of bowfinger , he off...</td>\n",
       "      <td>1</td>\n",
       "    </tr>\n",
       "    <tr>\n",
       "      <th>1659</th>\n",
       "      <td>bowfinger latches onto the idea immediately , ...</td>\n",
       "      <td>1</td>\n",
       "    </tr>\n",
       "  </tbody>\n",
       "</table>\n",
       "<p>1660 rows × 2 columns</p>\n",
       "</div>"
      ],
      "text/plain": [
       "                                               sentence  label\n",
       "0     living in a concentration camp-like atmosphere...      1\n",
       "1     there's even a nod to \" the blues brothers , \"...      1\n",
       "2     park , lord , and screenwriter karey kirkpatri...      1\n",
       "3     ginger is perfect , spunky and opinionated , b...      2\n",
       "4     jane horrocks delivers a lovely voice characte...      2\n",
       "...                                                 ...    ...\n",
       "1655  lin shae , who plays mary's neighbor magda ( a...      2\n",
       "1656  steve martin took an extended vacation from al...      2\n",
       "1657  much of the book spares tinseltown from mocker...      2\n",
       "1658  now , as writer and star of bowfinger , he off...      1\n",
       "1659  bowfinger latches onto the idea immediately , ...      1\n",
       "\n",
       "[1660 rows x 2 columns]"
      ]
     },
     "execution_count": 12,
     "metadata": {
      "tags": []
     },
     "output_type": "execute_result"
    }
   ],
   "source": [
    "## Read train and test dataset\n",
    "## Please provide the path where training and testing files exist\n",
    "\n",
    "train_df=pd.read_excel('/content/P1_training.xlsx')\n",
    "test_df=pd.read_excel('/content/P1_testing.xlsx')\n",
    "train_df"
   ]
  },
  {
   "cell_type": "markdown",
   "metadata": {
    "colab_type": "text",
    "id": "nMw1oZlvWcQl"
   },
   "source": [
    "### Preprocessing the dataset"
   ]
  },
  {
   "cell_type": "code",
   "execution_count": 13,
   "metadata": {
    "colab": {},
    "colab_type": "code",
    "id": "vDqSEVbpWcQm"
   },
   "outputs": [],
   "source": [
    "## Cleaning the sentences for training and testing data\n",
    "## Removes punctuations and stopwords\n",
    "\n",
    "def get_tokens(sentence):\n",
    "    return sentence.split()\n",
    "\n",
    "def text_preprocessing(df):\n",
    "    stop_words=stopwords.words('english')\n",
    "    df['sentence']=df['sentence'].str.lower()\n",
    "    df['sentence']=df['sentence'].str.replace('[^\\w\\s]','')\n",
    "    df['sentence'] = df['sentence'].apply(lambda x: ' '.join([word for word in get_tokens(x) if word not in (stop_words)]))\n",
    "    return df\n",
    "\n",
    "train_df=text_preprocessing(train_df)\n",
    "test_df=text_preprocessing(test_df)"
   ]
  },
  {
   "cell_type": "markdown",
   "metadata": {
    "colab_type": "text",
    "id": "u4zSJtYuWcQq"
   },
   "source": [
    "### Train-test Sentences"
   ]
  },
  {
   "cell_type": "code",
   "execution_count": 4,
   "metadata": {
    "colab": {},
    "colab_type": "code",
    "id": "Rh8hu5a2WcQr"
   },
   "outputs": [],
   "source": [
    "## Fetch training and testing sentences\n",
    "\n",
    "train_sentences=[]\n",
    "test_sentences=[]\n",
    "\n",
    "for x in list(train_df.sentence.values):\n",
    "    train_sentences.append(x.split())\n",
    "\n",
    "for x in list(test_df.sentence.values):\n",
    "    test_sentences.append(x.split())\n"
   ]
  },
  {
   "cell_type": "markdown",
   "metadata": {
    "colab_type": "text",
    "id": "EkbrQiatWcQv"
   },
   "source": [
    "### Gensim Word2Vec model"
   ]
  },
  {
   "cell_type": "code",
   "execution_count": 5,
   "metadata": {
    "colab": {
     "base_uri": "https://localhost:8080/",
     "height": 89
    },
    "colab_type": "code",
    "id": "-huuQ-zKWcQw",
    "outputId": "bbc25118-63be-455d-ccd8-a35693ce0620"
   },
   "outputs": [
    {
     "name": "stderr",
     "output_type": "stream",
     "text": [
      "/usr/local/lib/python3.6/dist-packages/smart_open/smart_open_lib.py:254: UserWarning: This function is deprecated, use smart_open.open instead. See the migration notes for details: https://github.com/RaRe-Technologies/smart_open/blob/master/README.rst#migrating-to-the-new-open-function\n",
      "  'See the migration notes for details: %s' % _MIGRATION_NOTES_URL\n"
     ]
    },
    {
     "data": {
      "text/plain": [
       "(149062, 207745)"
      ]
     },
     "execution_count": 5,
     "metadata": {
      "tags": []
     },
     "output_type": "execute_result"
    }
   ],
   "source": [
    "## Load model\n",
    "from gensim.models import KeyedVectors\n",
    "\n",
    "trained_model = KeyedVectors.load_word2vec_format(\"/content/GoogleNews-vectors-negative300.bin\",\n",
    "                                         binary = True)\n",
    "model = gensim.models.Word2Vec(size = 300, window=5,\n",
    "min_count = 3, workers = 2)\n",
    "model.build_vocab(train_sentences) \n",
    "model.build_vocab([list(trained_model.vocab.keys())], update=True)\n",
    "model.intersect_word2vec_format('/content/GoogleNews-vectors-negative300.bin', lockf=1.0, binary=True)\n",
    "model.train(train_sentences, total_examples=len(train_sentences), epochs = 5)\n",
    "\n"
   ]
  },
  {
   "cell_type": "markdown",
   "metadata": {
    "colab_type": "text",
    "id": "r152czhMWcQ3"
   },
   "source": [
    "### Word2vec Vectors"
   ]
  },
  {
   "cell_type": "code",
   "execution_count": 6,
   "metadata": {
    "colab": {
     "base_uri": "https://localhost:8080/",
     "height": 72
    },
    "colab_type": "code",
    "id": "5fikWcE-WcQ3",
    "outputId": "935807e9-4fd0-4199-ee77-059108ae61be"
   },
   "outputs": [
    {
     "name": "stderr",
     "output_type": "stream",
     "text": [
      "/usr/local/lib/python3.6/dist-packages/ipykernel_launcher.py:8: DeprecationWarning: Call to deprecated `__getitem__` (Method will be removed in 4.0.0, use self.wv.__getitem__() instead).\n",
      "  \n"
     ]
    }
   ],
   "source": [
    "## Calculate the feature vectors\n",
    "\n",
    "def get_FeatureVectors(words,model,features):\n",
    "    vector=np.zeros(features,dtype=\"float32\")\n",
    "    idx2word = set(model.wv.index2word)\n",
    "    cnt=0\n",
    "    for word in words:\n",
    "        if word in idx2word:\n",
    "            cnt+=1\n",
    "            vector=np.add(vector,model[word])\n",
    "    vector=np.divide(vector,cnt)\n",
    "    return vector\n",
    "\n",
    "def get_SentenceVectors(sentences,model,features):\n",
    "    cnt=0\n",
    "    sentence_len=len(sentences)\n",
    "    Sentence_Vector=np.zeros((sentence_len,features),dtype=\"float32\")\n",
    "    for sentence in sentences:\n",
    "        Sentence_Vector[cnt]=get_FeatureVectors(sentence,model,features)\n",
    "        cnt+=1\n",
    "        \n",
    "    return Sentence_Vector\n",
    " \n",
    "trainDataVecs = get_SentenceVectors(train_sentences, model, 300)\n",
    "testDataVecs = get_SentenceVectors(test_sentences, model, 300)"
   ]
  },
  {
   "cell_type": "markdown",
   "metadata": {
    "colab_type": "text",
    "id": "EH1ReUw9WcQ8"
   },
   "source": [
    "### ML Model"
   ]
  },
  {
   "cell_type": "code",
   "execution_count": 9,
   "metadata": {
    "colab": {
     "base_uri": "https://localhost:8080/",
     "height": 225
    },
    "colab_type": "code",
    "id": "ArJJNWCXWcQ9",
    "outputId": "eaef250a-b80b-437b-c05e-93774e43b994"
   },
   "outputs": [
    {
     "name": "stdout",
     "output_type": "stream",
     "text": [
      "Fitting random forest to training data....\n",
      "accuracy 0.4612005856515373\n",
      "              precision    recall  f1-score   support\n",
      "\n",
      "           0       0.08      0.11      0.10        82\n",
      "           1       0.51      0.57      0.54       303\n",
      "           2       0.56      0.45      0.50       298\n",
      "\n",
      "    accuracy                           0.46       683\n",
      "   macro avg       0.38      0.38      0.38       683\n",
      "weighted avg       0.48      0.46      0.47       683\n",
      "\n"
     ]
    }
   ],
   "source": [
    "## Random Forest Classifier\n",
    "\n",
    "forest = RandomForestClassifier(n_estimators=5,random_state=22)\n",
    "    \n",
    "print(\"Fitting random forest to training data....\")    \n",
    "forest = forest.fit(trainDataVecs, train_df[\"label\"])\n",
    "result = forest.predict(testDataVecs)\n",
    "\n",
    "print('accuracy %s' % accuracy_score(result, test_df['label']))\n",
    "print (classification_report(test_df['label'],result))"
   ]
  },
  {
   "cell_type": "code",
   "execution_count": 10,
   "metadata": {
    "colab": {},
    "colab_type": "code",
    "id": "RWyKPCFrWcRG"
   },
   "outputs": [],
   "source": [
    "## Please provide the path where testing files exist\n",
    "temp_df=pd.read_excel('P1_testing.xlsx')\n",
    "temp_df['predicted_label']=result\n",
    "temp_df=temp_df.rename(columns={\"label\": \"golden_label\"})\n",
    "temp_df.to_csv(\"testing_output_Word2vec_Gensim.csv\")"
   ]
  },
  {
   "cell_type": "code",
   "execution_count": null,
   "metadata": {
    "colab": {},
    "colab_type": "code",
    "id": "PTNl_elFWcRJ"
   },
   "outputs": [],
   "source": []
  }
 ],
 "metadata": {
  "colab": {
   "collapsed_sections": [],
   "name": "Word2vec_gensim.ipynb",
   "provenance": []
  },
  "kernelspec": {
   "display_name": "Python 3",
   "language": "python",
   "name": "python3"
  },
  "language_info": {
   "codemirror_mode": {
    "name": "ipython",
    "version": 3
   },
   "file_extension": ".py",
   "mimetype": "text/x-python",
   "name": "python",
   "nbconvert_exporter": "python",
   "pygments_lexer": "ipython3",
   "version": "3.7.6"
  }
 },
 "nbformat": 4,
 "nbformat_minor": 1
}
