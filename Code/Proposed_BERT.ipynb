{
 "cells": [
  {
   "cell_type": "markdown",
   "metadata": {
    "colab_type": "text",
    "id": "6ulYcnqeBfms"
   },
   "source": [
    "# BERT MODEL"
   ]
  },
  {
   "cell_type": "markdown",
   "metadata": {
    "colab_type": "text",
    "id": "oh7UOo95BpB1"
   },
   "source": [
    "### Libraries"
   ]
  },
  {
   "cell_type": "code",
   "execution_count": null,
   "metadata": {
    "colab": {},
    "colab_type": "code",
    "id": "3jI7RwT_BYln"
   },
   "outputs": [],
   "source": [
    "## Change the runtime to GPU\n",
    "## Uncomment the below line to install ktrain library\n",
    "\n",
    "#!pip install ktrain\n",
    "# import nltk\n",
    "# nltk.download('stopwords')"
   ]
  },
  {
   "cell_type": "code",
   "execution_count": 1,
   "metadata": {
    "colab": {},
    "colab_type": "code",
    "id": "G_RfHdXWGrdz"
   },
   "outputs": [],
   "source": [
    "## Download and import libraries\n",
    "\n",
    "import numpy as np\n",
    "import pandas as pd\n",
    "import tensorflow as tf\n",
    "import ktrain\n",
    "from ktrain import text\n",
    "import nltk\n",
    "from nltk.corpus import stopwords\n",
    "from nltk.tokenize import word_tokenize\n",
    "from sklearn.metrics import accuracy_score\n",
    "from sklearn.metrics import classification_report"
   ]
  },
  {
   "cell_type": "markdown",
   "metadata": {
    "colab_type": "text",
    "id": "pU3WOHUfCnVY"
   },
   "source": [
    "## Dataset"
   ]
  },
  {
   "cell_type": "code",
   "execution_count": 2,
   "metadata": {
    "colab": {
     "base_uri": "https://localhost:8080/",
     "height": 419
    },
    "colab_type": "code",
    "id": "_f0QAd50GuI9",
    "outputId": "14ee5501-1c5c-4664-9f70-630500cfe422"
   },
   "outputs": [
    {
     "data": {
      "text/html": [
       "<div>\n",
       "<style scoped>\n",
       "    .dataframe tbody tr th:only-of-type {\n",
       "        vertical-align: middle;\n",
       "    }\n",
       "\n",
       "    .dataframe tbody tr th {\n",
       "        vertical-align: top;\n",
       "    }\n",
       "\n",
       "    .dataframe thead th {\n",
       "        text-align: right;\n",
       "    }\n",
       "</style>\n",
       "<table border=\"1\" class=\"dataframe\">\n",
       "  <thead>\n",
       "    <tr style=\"text-align: right;\">\n",
       "      <th></th>\n",
       "      <th>sentence</th>\n",
       "      <th>label</th>\n",
       "    </tr>\n",
       "  </thead>\n",
       "  <tbody>\n",
       "    <tr>\n",
       "      <th>0</th>\n",
       "      <td>living in a concentration camp-like atmosphere...</td>\n",
       "      <td>1</td>\n",
       "    </tr>\n",
       "    <tr>\n",
       "      <th>1</th>\n",
       "      <td>there's even a nod to \" the blues brothers , \"...</td>\n",
       "      <td>1</td>\n",
       "    </tr>\n",
       "    <tr>\n",
       "      <th>2</th>\n",
       "      <td>park , lord , and screenwriter karey kirkpatri...</td>\n",
       "      <td>1</td>\n",
       "    </tr>\n",
       "    <tr>\n",
       "      <th>3</th>\n",
       "      <td>ginger is perfect , spunky and opinionated , b...</td>\n",
       "      <td>2</td>\n",
       "    </tr>\n",
       "    <tr>\n",
       "      <th>4</th>\n",
       "      <td>jane horrocks delivers a lovely voice characte...</td>\n",
       "      <td>2</td>\n",
       "    </tr>\n",
       "    <tr>\n",
       "      <th>...</th>\n",
       "      <td>...</td>\n",
       "      <td>...</td>\n",
       "    </tr>\n",
       "    <tr>\n",
       "      <th>1655</th>\n",
       "      <td>lin shae , who plays mary's neighbor magda ( a...</td>\n",
       "      <td>2</td>\n",
       "    </tr>\n",
       "    <tr>\n",
       "      <th>1656</th>\n",
       "      <td>steve martin took an extended vacation from al...</td>\n",
       "      <td>2</td>\n",
       "    </tr>\n",
       "    <tr>\n",
       "      <th>1657</th>\n",
       "      <td>much of the book spares tinseltown from mocker...</td>\n",
       "      <td>2</td>\n",
       "    </tr>\n",
       "    <tr>\n",
       "      <th>1658</th>\n",
       "      <td>now , as writer and star of bowfinger , he off...</td>\n",
       "      <td>1</td>\n",
       "    </tr>\n",
       "    <tr>\n",
       "      <th>1659</th>\n",
       "      <td>bowfinger latches onto the idea immediately , ...</td>\n",
       "      <td>1</td>\n",
       "    </tr>\n",
       "  </tbody>\n",
       "</table>\n",
       "<p>1660 rows × 2 columns</p>\n",
       "</div>"
      ],
      "text/plain": [
       "                                               sentence  label\n",
       "0     living in a concentration camp-like atmosphere...      1\n",
       "1     there's even a nod to \" the blues brothers , \"...      1\n",
       "2     park , lord , and screenwriter karey kirkpatri...      1\n",
       "3     ginger is perfect , spunky and opinionated , b...      2\n",
       "4     jane horrocks delivers a lovely voice characte...      2\n",
       "...                                                 ...    ...\n",
       "1655  lin shae , who plays mary's neighbor magda ( a...      2\n",
       "1656  steve martin took an extended vacation from al...      2\n",
       "1657  much of the book spares tinseltown from mocker...      2\n",
       "1658  now , as writer and star of bowfinger , he off...      1\n",
       "1659  bowfinger latches onto the idea immediately , ...      1\n",
       "\n",
       "[1660 rows x 2 columns]"
      ]
     },
     "execution_count": 2,
     "metadata": {
      "tags": []
     },
     "output_type": "execute_result"
    }
   ],
   "source": [
    "## Read train and test dataset\n",
    "train_df=pd.read_excel('/content/P1_training.xlsx')\n",
    "test_df=pd.read_excel('/content/P1_testing.xlsx')\n",
    "train_df"
   ]
  },
  {
   "cell_type": "code",
   "execution_count": 3,
   "metadata": {
    "colab": {
     "base_uri": "https://localhost:8080/",
     "height": 419
    },
    "colab_type": "code",
    "id": "NAg3XsV1HVil",
    "outputId": "836c99cc-3024-4c39-a71a-ae603a750d1d"
   },
   "outputs": [
    {
     "data": {
      "text/html": [
       "<div>\n",
       "<style scoped>\n",
       "    .dataframe tbody tr th:only-of-type {\n",
       "        vertical-align: middle;\n",
       "    }\n",
       "\n",
       "    .dataframe tbody tr th {\n",
       "        vertical-align: top;\n",
       "    }\n",
       "\n",
       "    .dataframe thead th {\n",
       "        text-align: right;\n",
       "    }\n",
       "</style>\n",
       "<table border=\"1\" class=\"dataframe\">\n",
       "  <thead>\n",
       "    <tr style=\"text-align: right;\">\n",
       "      <th></th>\n",
       "      <th>sentence</th>\n",
       "      <th>label</th>\n",
       "    </tr>\n",
       "  </thead>\n",
       "  <tbody>\n",
       "    <tr>\n",
       "      <th>0</th>\n",
       "      <td>living in a concentration camp-like atmosphere...</td>\n",
       "      <td>1</td>\n",
       "    </tr>\n",
       "    <tr>\n",
       "      <th>1</th>\n",
       "      <td>there's even a nod to \" the blues brothers , \"...</td>\n",
       "      <td>1</td>\n",
       "    </tr>\n",
       "    <tr>\n",
       "      <th>2</th>\n",
       "      <td>park , lord , and screenwriter karey kirkpatri...</td>\n",
       "      <td>1</td>\n",
       "    </tr>\n",
       "    <tr>\n",
       "      <th>3</th>\n",
       "      <td>ginger is perfect , spunky and opinionated , b...</td>\n",
       "      <td>2</td>\n",
       "    </tr>\n",
       "    <tr>\n",
       "      <th>4</th>\n",
       "      <td>jane horrocks delivers a lovely voice characte...</td>\n",
       "      <td>2</td>\n",
       "    </tr>\n",
       "    <tr>\n",
       "      <th>...</th>\n",
       "      <td>...</td>\n",
       "      <td>...</td>\n",
       "    </tr>\n",
       "    <tr>\n",
       "      <th>1489</th>\n",
       "      <td>moreover , brosnan has at last settled into th...</td>\n",
       "      <td>2</td>\n",
       "    </tr>\n",
       "    <tr>\n",
       "      <th>1490</th>\n",
       "      <td>and though carver's motives are muddy ( when c...</td>\n",
       "      <td>2</td>\n",
       "    </tr>\n",
       "    <tr>\n",
       "      <th>1491</th>\n",
       "      <td>( 1996 ) starring jennifer jason leigh , ron e...</td>\n",
       "      <td>2</td>\n",
       "    </tr>\n",
       "    <tr>\n",
       "      <th>1492</th>\n",
       "      <td>in her directorial debut , bastard out of caro...</td>\n",
       "      <td>2</td>\n",
       "    </tr>\n",
       "    <tr>\n",
       "      <th>1493</th>\n",
       "      <td>through voice-over ( narration done by laura d...</td>\n",
       "      <td>1</td>\n",
       "    </tr>\n",
       "  </tbody>\n",
       "</table>\n",
       "<p>1494 rows × 2 columns</p>\n",
       "</div>"
      ],
      "text/plain": [
       "                                               sentence  label\n",
       "0     living in a concentration camp-like atmosphere...      1\n",
       "1     there's even a nod to \" the blues brothers , \"...      1\n",
       "2     park , lord , and screenwriter karey kirkpatri...      1\n",
       "3     ginger is perfect , spunky and opinionated , b...      2\n",
       "4     jane horrocks delivers a lovely voice characte...      2\n",
       "...                                                 ...    ...\n",
       "1489  moreover , brosnan has at last settled into th...      2\n",
       "1490  and though carver's motives are muddy ( when c...      2\n",
       "1491  ( 1996 ) starring jennifer jason leigh , ron e...      2\n",
       "1492  in her directorial debut , bastard out of caro...      2\n",
       "1493  through voice-over ( narration done by laura d...      1\n",
       "\n",
       "[1494 rows x 2 columns]"
      ]
     },
     "execution_count": 3,
     "metadata": {
      "tags": []
     },
     "output_type": "execute_result"
    }
   ],
   "source": [
    "## Splitting training data for validation in BERT model\n",
    "\n",
    "train_len=len(train_df)\n",
    "val_df=train_df.iloc[int(0.9*train_len):,:]\n",
    "train_df=train_df.iloc[:int(0.9*train_len),:]\n",
    "train_df"
   ]
  },
  {
   "cell_type": "markdown",
   "metadata": {
    "colab_type": "text",
    "id": "uNx_OuThDjcL"
   },
   "source": [
    "## BERT MODEL\n",
    "### Using pretrained BERT model (uncased_L-12_H-768_A-12)"
   ]
  },
  {
   "cell_type": "code",
   "execution_count": 4,
   "metadata": {
    "colab": {
     "base_uri": "https://localhost:8080/",
     "height": 136
    },
    "colab_type": "code",
    "id": "5OTvYqZ_IEtV",
    "outputId": "73602cf7-1040-4e86-aa8e-b38c657961d3"
   },
   "outputs": [
    {
     "name": "stdout",
     "output_type": "stream",
     "text": [
      "preprocessing train...\n",
      "language: en\n"
     ]
    },
    {
     "data": {
      "text/html": [
       "done."
      ],
      "text/plain": [
       "<IPython.core.display.HTML object>"
      ]
     },
     "metadata": {
      "tags": []
     },
     "output_type": "display_data"
    },
    {
     "name": "stdout",
     "output_type": "stream",
     "text": [
      "Is Multi-Label? False\n",
      "preprocessing test...\n",
      "language: en\n"
     ]
    },
    {
     "data": {
      "text/html": [
       "done."
      ],
      "text/plain": [
       "<IPython.core.display.HTML object>"
      ]
     },
     "metadata": {
      "tags": []
     },
     "output_type": "display_data"
    }
   ],
   "source": [
    "## Preprocess the dataset based on BERT's inbuilt preprocessing\n",
    "## This cell downloads the pretrained BERT model (uncased_L-12_H-768_A-12)\n",
    "(X_train,Y_train),(X_val,Y_val),preprocess=text.texts_from_df(train_df=train_df,\n",
    "                   text_column='sentence',\n",
    "                   label_columns='label',\n",
    "                   val_df=val_df,\n",
    "                   maxlen=100,\n",
    "                   preprocess_mode='bert')\n"
   ]
  },
  {
   "cell_type": "code",
   "execution_count": 5,
   "metadata": {
    "colab": {
     "base_uri": "https://localhost:8080/",
     "height": 68
    },
    "colab_type": "code",
    "id": "SMIMhceaIaNm",
    "outputId": "d6081e36-2f11-4102-d0d1-254f329e562b"
   },
   "outputs": [
    {
     "name": "stdout",
     "output_type": "stream",
     "text": [
      "Is Multi-Label? False\n",
      "maxlen is 100\n",
      "done.\n"
     ]
    }
   ],
   "source": [
    "## Build the model classifier  \n",
    "model=text.text_classifier(name='bert',\n",
    "                           train_data=(X_train,Y_train),\n",
    "                           preproc=preprocess)\n",
    "learner=ktrain.get_learner(model=model,\n",
    "                           train_data=(X_train,Y_train),\n",
    "                           val_data=(X_val,Y_val),\n",
    "                           batch_size=32)\n"
   ]
  },
  {
   "cell_type": "code",
   "execution_count": 6,
   "metadata": {
    "colab": {
     "base_uri": "https://localhost:8080/",
     "height": 241
    },
    "colab_type": "code",
    "id": "Wrp1yUr3Kr8j",
    "outputId": "a6848095-b9be-451c-d4b9-736018f53fbc"
   },
   "outputs": [
    {
     "name": "stdout",
     "output_type": "stream",
     "text": [
      "\n",
      "\n",
      "begin training using onecycle policy with max lr of 2e-05...\n",
      "Epoch 1/4\n",
      "47/47 [==============================] - 47s 994ms/step - loss: 1.0523 - accuracy: 0.4819 - val_loss: 0.8924 - val_accuracy: 0.6386\n",
      "Epoch 2/4\n",
      "47/47 [==============================] - 42s 901ms/step - loss: 0.8829 - accuracy: 0.6198 - val_loss: 0.8264 - val_accuracy: 0.6446\n",
      "Epoch 3/4\n",
      "47/47 [==============================] - 43s 909ms/step - loss: 0.6938 - accuracy: 0.6995 - val_loss: 0.8226 - val_accuracy: 0.6325\n",
      "Epoch 4/4\n",
      "47/47 [==============================] - 42s 901ms/step - loss: 0.4835 - accuracy: 0.8166 - val_loss: 0.8461 - val_accuracy: 0.6325\n"
     ]
    },
    {
     "data": {
      "text/plain": [
       "<tensorflow.python.keras.callbacks.History at 0x7fd73ee1b7f0>"
      ]
     },
     "execution_count": 6,
     "metadata": {
      "tags": []
     },
     "output_type": "execute_result"
    }
   ],
   "source": [
    "## Fit the BERT model on training data\n",
    "lr_rate=2e-5\n",
    "epochs=4\n",
    "learner.fit_onecycle(lr_rate, epochs) "
   ]
  },
  {
   "cell_type": "code",
   "execution_count": 7,
   "metadata": {
    "colab": {
     "base_uri": "https://localhost:8080/",
     "height": 17
    },
    "colab_type": "code",
    "id": "NpQIEOfjLWeH",
    "outputId": "f46ff815-e5ba-48d3-89d7-e7ff9b563a35"
   },
   "outputs": [
    {
     "data": {
      "text/html": [],
      "text/plain": [
       "<IPython.core.display.HTML object>"
      ]
     },
     "metadata": {
      "tags": []
     },
     "output_type": "display_data"
    }
   ],
   "source": [
    "## Get predictions\n",
    "predictor=ktrain.get_predictor(learner.model,preprocess)\n",
    "preds=predictor.predict(list(test_df.sentence.values))\n",
    "predictions=[]\n",
    "for i in preds:\n",
    "    predictions.append(int(i[-1]))\n"
   ]
  },
  {
   "cell_type": "markdown",
   "metadata": {
    "colab_type": "text",
    "id": "c4l_bcL4HRfK"
   },
   "source": [
    "### Results"
   ]
  },
  {
   "cell_type": "code",
   "execution_count": 8,
   "metadata": {
    "colab": {
     "base_uri": "https://localhost:8080/",
     "height": 187
    },
    "colab_type": "code",
    "id": "9Bp6YCwDLr7j",
    "outputId": "9647e233-4538-4a7b-a95d-94ab2028e7e9"
   },
   "outputs": [
    {
     "name": "stdout",
     "output_type": "stream",
     "text": [
      "              precision    recall  f1-score   support\n",
      "\n",
      "           0       0.34      0.39      0.36        72\n",
      "           1       0.72      0.68      0.70       319\n",
      "           2       0.72      0.74      0.73       292\n",
      "\n",
      "    accuracy                           0.67       683\n",
      "   macro avg       0.59      0.60      0.60       683\n",
      "weighted avg       0.68      0.67      0.68       683\n",
      "\n"
     ]
    }
   ],
   "source": [
    "print (classification_report(predictions,test_df.label.values))"
   ]
  },
  {
   "cell_type": "code",
   "execution_count": 9,
   "metadata": {
    "colab": {
     "base_uri": "https://localhost:8080/",
     "height": 34
    },
    "colab_type": "code",
    "id": "B4Mbzd3wQFg5",
    "outputId": "7aea6ca0-c098-4723-d077-fb5cea80e523"
   },
   "outputs": [
    {
     "data": {
      "text/plain": [
       "0.6734992679355783"
      ]
     },
     "execution_count": 9,
     "metadata": {
      "tags": []
     },
     "output_type": "execute_result"
    }
   ],
   "source": [
    "accuracy_score(predictions,test_df.label.values)"
   ]
  },
  {
   "cell_type": "code",
   "execution_count": 10,
   "metadata": {
    "colab": {},
    "colab_type": "code",
    "id": "ARccMMOQPLbV"
   },
   "outputs": [],
   "source": [
    "temp_df=pd.read_excel('/content/P1_testing.xlsx')\n",
    "temp_df['predicted_label']=predictions\n",
    "temp_df=temp_df.rename(columns={\"label\":\"golden_label\"})\n",
    "temp_df.to_csv(\"/content/testing_output_Proposed.csv\")"
   ]
  },
  {
   "cell_type": "code",
   "execution_count": null,
   "metadata": {
    "colab": {},
    "colab_type": "code",
    "id": "Cnub7CerI-X4"
   },
   "outputs": [],
   "source": []
  }
 ],
 "metadata": {
  "accelerator": "GPU",
  "colab": {
   "name": "Proposed BERT.ipynb",
   "provenance": []
  },
  "kernelspec": {
   "display_name": "Python 3",
   "language": "python",
   "name": "python3"
  },
  "language_info": {
   "codemirror_mode": {
    "name": "ipython",
    "version": 3
   },
   "file_extension": ".py",
   "mimetype": "text/x-python",
   "name": "python",
   "nbconvert_exporter": "python",
   "pygments_lexer": "ipython3",
   "version": "3.7.6"
  }
 },
 "nbformat": 4,
 "nbformat_minor": 1
}
