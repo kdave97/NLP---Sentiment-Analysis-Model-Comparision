{
 "cells": [
  {
   "cell_type": "markdown",
   "metadata": {},
   "source": [
    "# Word2Vec + ML Classifier"
   ]
  },
  {
   "cell_type": "markdown",
   "metadata": {},
   "source": [
    "### Libraries"
   ]
  },
  {
   "cell_type": "code",
   "execution_count": 1,
   "metadata": {},
   "outputs": [],
   "source": [
    "## Download and import libraries\n",
    "\n",
    "import pandas as pd\n",
    "import numpy as np\n",
    "import nltk\n",
    "from sklearn.metrics import accuracy_score\n",
    "from sklearn.svm import LinearSVC\n",
    "from sklearn.ensemble import RandomForestClassifier\n",
    "from sklearn.model_selection import train_test_split\n",
    "from sklearn.metrics import classification_report\n"
   ]
  },
  {
   "cell_type": "code",
   "execution_count": 2,
   "metadata": {},
   "outputs": [],
   "source": [
    "## Load the pretrained english language spacy model\n",
    "## Uncomment the below 3 lines to download spacy and pretrained model\n",
    "\n",
    "# !pip install spacy\n",
    "# !python -m spacy download en_core_web_lg\n",
    "# nltk.download('stopwords')\n",
    "\n",
    "\n",
    "from nltk.corpus import stopwords\n",
    "from nltk.tokenize import word_tokenize\n",
    "import spacy\n",
    "import en_core_web_lg\n",
    "nlp=en_core_web_lg.load()"
   ]
  },
  {
   "cell_type": "markdown",
   "metadata": {},
   "source": [
    "### Dataset"
   ]
  },
  {
   "cell_type": "code",
   "execution_count": 3,
   "metadata": {
    "scrolled": true
   },
   "outputs": [
    {
     "data": {
      "text/html": [
       "<div>\n",
       "<style scoped>\n",
       "    .dataframe tbody tr th:only-of-type {\n",
       "        vertical-align: middle;\n",
       "    }\n",
       "\n",
       "    .dataframe tbody tr th {\n",
       "        vertical-align: top;\n",
       "    }\n",
       "\n",
       "    .dataframe thead th {\n",
       "        text-align: right;\n",
       "    }\n",
       "</style>\n",
       "<table border=\"1\" class=\"dataframe\">\n",
       "  <thead>\n",
       "    <tr style=\"text-align: right;\">\n",
       "      <th></th>\n",
       "      <th>sentence</th>\n",
       "      <th>label</th>\n",
       "    </tr>\n",
       "  </thead>\n",
       "  <tbody>\n",
       "    <tr>\n",
       "      <th>0</th>\n",
       "      <td>living in a concentration camp-like atmosphere...</td>\n",
       "      <td>1</td>\n",
       "    </tr>\n",
       "    <tr>\n",
       "      <th>1</th>\n",
       "      <td>there's even a nod to \" the blues brothers , \"...</td>\n",
       "      <td>1</td>\n",
       "    </tr>\n",
       "    <tr>\n",
       "      <th>2</th>\n",
       "      <td>park , lord , and screenwriter karey kirkpatri...</td>\n",
       "      <td>1</td>\n",
       "    </tr>\n",
       "    <tr>\n",
       "      <th>3</th>\n",
       "      <td>ginger is perfect , spunky and opinionated , b...</td>\n",
       "      <td>2</td>\n",
       "    </tr>\n",
       "    <tr>\n",
       "      <th>4</th>\n",
       "      <td>jane horrocks delivers a lovely voice characte...</td>\n",
       "      <td>2</td>\n",
       "    </tr>\n",
       "    <tr>\n",
       "      <th>...</th>\n",
       "      <td>...</td>\n",
       "      <td>...</td>\n",
       "    </tr>\n",
       "    <tr>\n",
       "      <th>1655</th>\n",
       "      <td>lin shae , who plays mary's neighbor magda ( a...</td>\n",
       "      <td>2</td>\n",
       "    </tr>\n",
       "    <tr>\n",
       "      <th>1656</th>\n",
       "      <td>steve martin took an extended vacation from al...</td>\n",
       "      <td>2</td>\n",
       "    </tr>\n",
       "    <tr>\n",
       "      <th>1657</th>\n",
       "      <td>much of the book spares tinseltown from mocker...</td>\n",
       "      <td>2</td>\n",
       "    </tr>\n",
       "    <tr>\n",
       "      <th>1658</th>\n",
       "      <td>now , as writer and star of bowfinger , he off...</td>\n",
       "      <td>1</td>\n",
       "    </tr>\n",
       "    <tr>\n",
       "      <th>1659</th>\n",
       "      <td>bowfinger latches onto the idea immediately , ...</td>\n",
       "      <td>1</td>\n",
       "    </tr>\n",
       "  </tbody>\n",
       "</table>\n",
       "<p>1660 rows × 2 columns</p>\n",
       "</div>"
      ],
      "text/plain": [
       "                                               sentence  label\n",
       "0     living in a concentration camp-like atmosphere...      1\n",
       "1     there's even a nod to \" the blues brothers , \"...      1\n",
       "2     park , lord , and screenwriter karey kirkpatri...      1\n",
       "3     ginger is perfect , spunky and opinionated , b...      2\n",
       "4     jane horrocks delivers a lovely voice characte...      2\n",
       "...                                                 ...    ...\n",
       "1655  lin shae , who plays mary's neighbor magda ( a...      2\n",
       "1656  steve martin took an extended vacation from al...      2\n",
       "1657  much of the book spares tinseltown from mocker...      2\n",
       "1658  now , as writer and star of bowfinger , he off...      1\n",
       "1659  bowfinger latches onto the idea immediately , ...      1\n",
       "\n",
       "[1660 rows x 2 columns]"
      ]
     },
     "execution_count": 3,
     "metadata": {},
     "output_type": "execute_result"
    }
   ],
   "source": [
    "## Read train and test dataset\n",
    "## Please provide the path where training and testing files exist\n",
    "\n",
    "train_df=pd.read_excel('P1_training.xlsx')\n",
    "test_df=pd.read_excel('P1_testing.xlsx')\n",
    "train_df"
   ]
  },
  {
   "cell_type": "markdown",
   "metadata": {},
   "source": [
    "### Processing the dataset"
   ]
  },
  {
   "cell_type": "code",
   "execution_count": 4,
   "metadata": {},
   "outputs": [],
   "source": [
    "## Cleaning the sentences for training and testing data\n",
    "## Removes punctuations and stopwords\n",
    "\n",
    "\n",
    "def get_tokens(sentence):\n",
    "    return sentence.split()\n",
    "\n",
    "def text_preprocessing(df):\n",
    "    stop_words=stopwords.words('english')\n",
    "    df['sentence']=df['sentence'].str.lower()\n",
    "    df['sentence']=df['sentence'].str.replace('[^\\w\\s]','')\n",
    "    df['sentence'] = df['sentence'].apply(lambda x: ' '.join([word for word in get_tokens(x) if word not in (stop_words)]))\n",
    "    return df\n",
    "\n",
    "train_df=text_preprocessing(train_df)\n",
    "test_df=text_preprocessing(test_df)"
   ]
  },
  {
   "cell_type": "code",
   "execution_count": 5,
   "metadata": {},
   "outputs": [
    {
     "data": {
      "text/html": [
       "<div>\n",
       "<style scoped>\n",
       "    .dataframe tbody tr th:only-of-type {\n",
       "        vertical-align: middle;\n",
       "    }\n",
       "\n",
       "    .dataframe tbody tr th {\n",
       "        vertical-align: top;\n",
       "    }\n",
       "\n",
       "    .dataframe thead th {\n",
       "        text-align: right;\n",
       "    }\n",
       "</style>\n",
       "<table border=\"1\" class=\"dataframe\">\n",
       "  <thead>\n",
       "    <tr style=\"text-align: right;\">\n",
       "      <th></th>\n",
       "      <th>sentence</th>\n",
       "      <th>label</th>\n",
       "    </tr>\n",
       "  </thead>\n",
       "  <tbody>\n",
       "    <tr>\n",
       "      <th>0</th>\n",
       "      <td>living concentration camplike atmosphere led o...</td>\n",
       "      <td>1</td>\n",
       "    </tr>\n",
       "    <tr>\n",
       "      <th>1</th>\n",
       "      <td>theres even nod blues brothers believe filmmak...</td>\n",
       "      <td>1</td>\n",
       "    </tr>\n",
       "    <tr>\n",
       "      <th>2</th>\n",
       "      <td>park lord screenwriter karey kirkpatrick reali...</td>\n",
       "      <td>1</td>\n",
       "    </tr>\n",
       "    <tr>\n",
       "      <th>3</th>\n",
       "      <td>ginger perfect spunky opinionated soft heart f...</td>\n",
       "      <td>2</td>\n",
       "    </tr>\n",
       "    <tr>\n",
       "      <th>4</th>\n",
       "      <td>jane horrocks delivers lovely voice characteri...</td>\n",
       "      <td>2</td>\n",
       "    </tr>\n",
       "    <tr>\n",
       "      <th>...</th>\n",
       "      <td>...</td>\n",
       "      <td>...</td>\n",
       "    </tr>\n",
       "    <tr>\n",
       "      <th>1655</th>\n",
       "      <td>lin shae plays marys neighbor magda also appea...</td>\n",
       "      <td>2</td>\n",
       "    </tr>\n",
       "    <tr>\n",
       "      <th>1656</th>\n",
       "      <td>steve martin took extended vacation facets mov...</td>\n",
       "      <td>2</td>\n",
       "    </tr>\n",
       "    <tr>\n",
       "      <th>1657</th>\n",
       "      <td>much book spares tinseltown mockery although r...</td>\n",
       "      <td>2</td>\n",
       "    </tr>\n",
       "    <tr>\n",
       "      <th>1658</th>\n",
       "      <td>writer star bowfinger offers masses plenty goo...</td>\n",
       "      <td>1</td>\n",
       "    </tr>\n",
       "    <tr>\n",
       "      <th>1659</th>\n",
       "      <td>bowfinger latches onto idea immediately convin...</td>\n",
       "      <td>1</td>\n",
       "    </tr>\n",
       "  </tbody>\n",
       "</table>\n",
       "<p>1660 rows × 2 columns</p>\n",
       "</div>"
      ],
      "text/plain": [
       "                                               sentence  label\n",
       "0     living concentration camplike atmosphere led o...      1\n",
       "1     theres even nod blues brothers believe filmmak...      1\n",
       "2     park lord screenwriter karey kirkpatrick reali...      1\n",
       "3     ginger perfect spunky opinionated soft heart f...      2\n",
       "4     jane horrocks delivers lovely voice characteri...      2\n",
       "...                                                 ...    ...\n",
       "1655  lin shae plays marys neighbor magda also appea...      2\n",
       "1656  steve martin took extended vacation facets mov...      2\n",
       "1657  much book spares tinseltown mockery although r...      2\n",
       "1658  writer star bowfinger offers masses plenty goo...      1\n",
       "1659  bowfinger latches onto idea immediately convin...      1\n",
       "\n",
       "[1660 rows x 2 columns]"
      ]
     },
     "execution_count": 5,
     "metadata": {},
     "output_type": "execute_result"
    }
   ],
   "source": [
    "train_df"
   ]
  },
  {
   "cell_type": "markdown",
   "metadata": {},
   "source": [
    "### Vector Representation"
   ]
  },
  {
   "cell_type": "code",
   "execution_count": 6,
   "metadata": {},
   "outputs": [],
   "source": [
    "## Get vector representation for sentences\n",
    "\n",
    "def vector_representation(sentence):\n",
    "    doc=nlp(sentence)\n",
    "    vector=doc.vector\n",
    "    return vector\n",
    "\n",
    "def get_vectors(df):\n",
    "    df['vector_rep']=df['sentence'].apply(lambda x: vector_representation(x))\n",
    "    return df\n",
    "\n",
    "train_df=get_vectors(train_df)\n",
    "test_df=get_vectors(test_df)"
   ]
  },
  {
   "cell_type": "code",
   "execution_count": 7,
   "metadata": {},
   "outputs": [
    {
     "data": {
      "text/html": [
       "<div>\n",
       "<style scoped>\n",
       "    .dataframe tbody tr th:only-of-type {\n",
       "        vertical-align: middle;\n",
       "    }\n",
       "\n",
       "    .dataframe tbody tr th {\n",
       "        vertical-align: top;\n",
       "    }\n",
       "\n",
       "    .dataframe thead th {\n",
       "        text-align: right;\n",
       "    }\n",
       "</style>\n",
       "<table border=\"1\" class=\"dataframe\">\n",
       "  <thead>\n",
       "    <tr style=\"text-align: right;\">\n",
       "      <th></th>\n",
       "      <th>sentence</th>\n",
       "      <th>label</th>\n",
       "      <th>vector_rep</th>\n",
       "    </tr>\n",
       "  </thead>\n",
       "  <tbody>\n",
       "    <tr>\n",
       "      <th>0</th>\n",
       "      <td>living concentration camplike atmosphere led o...</td>\n",
       "      <td>1</td>\n",
       "      <td>[-0.043274872, 0.13555712, 0.0031807376, -0.02...</td>\n",
       "    </tr>\n",
       "    <tr>\n",
       "      <th>1</th>\n",
       "      <td>theres even nod blues brothers believe filmmak...</td>\n",
       "      <td>1</td>\n",
       "      <td>[-0.0827837, 0.056825243, -0.09836677, 0.01558...</td>\n",
       "    </tr>\n",
       "    <tr>\n",
       "      <th>2</th>\n",
       "      <td>park lord screenwriter karey kirkpatrick reali...</td>\n",
       "      <td>1</td>\n",
       "      <td>[-0.105013736, 0.043996673, -0.100186825, 0.02...</td>\n",
       "    </tr>\n",
       "    <tr>\n",
       "      <th>3</th>\n",
       "      <td>ginger perfect spunky opinionated soft heart f...</td>\n",
       "      <td>2</td>\n",
       "      <td>[0.0011016836, 0.07213296, -0.24056295, 0.0744...</td>\n",
       "    </tr>\n",
       "    <tr>\n",
       "      <th>4</th>\n",
       "      <td>jane horrocks delivers lovely voice characteri...</td>\n",
       "      <td>2</td>\n",
       "      <td>[0.028003514, 0.043497793, -0.04778112, -0.024...</td>\n",
       "    </tr>\n",
       "    <tr>\n",
       "      <th>...</th>\n",
       "      <td>...</td>\n",
       "      <td>...</td>\n",
       "      <td>...</td>\n",
       "    </tr>\n",
       "    <tr>\n",
       "      <th>1655</th>\n",
       "      <td>lin shae plays marys neighbor magda also appea...</td>\n",
       "      <td>2</td>\n",
       "      <td>[-0.08198986, 0.06842123, -0.036075655, -0.046...</td>\n",
       "    </tr>\n",
       "    <tr>\n",
       "      <th>1656</th>\n",
       "      <td>steve martin took extended vacation facets mov...</td>\n",
       "      <td>2</td>\n",
       "      <td>[0.014995606, 0.08740837, 0.05923424, -0.04339...</td>\n",
       "    </tr>\n",
       "    <tr>\n",
       "      <th>1657</th>\n",
       "      <td>much book spares tinseltown mockery although r...</td>\n",
       "      <td>2</td>\n",
       "      <td>[-0.10096329, 0.1045848, 0.064322814, -0.05705...</td>\n",
       "    </tr>\n",
       "    <tr>\n",
       "      <th>1658</th>\n",
       "      <td>writer star bowfinger offers masses plenty goo...</td>\n",
       "      <td>1</td>\n",
       "      <td>[0.053507973, 0.14204131, 0.0054865074, 0.0234...</td>\n",
       "    </tr>\n",
       "    <tr>\n",
       "      <th>1659</th>\n",
       "      <td>bowfinger latches onto idea immediately convin...</td>\n",
       "      <td>1</td>\n",
       "      <td>[0.060787957, 0.01967091, 0.0067951344, -0.060...</td>\n",
       "    </tr>\n",
       "  </tbody>\n",
       "</table>\n",
       "<p>1660 rows × 3 columns</p>\n",
       "</div>"
      ],
      "text/plain": [
       "                                               sentence  label  \\\n",
       "0     living concentration camplike atmosphere led o...      1   \n",
       "1     theres even nod blues brothers believe filmmak...      1   \n",
       "2     park lord screenwriter karey kirkpatrick reali...      1   \n",
       "3     ginger perfect spunky opinionated soft heart f...      2   \n",
       "4     jane horrocks delivers lovely voice characteri...      2   \n",
       "...                                                 ...    ...   \n",
       "1655  lin shae plays marys neighbor magda also appea...      2   \n",
       "1656  steve martin took extended vacation facets mov...      2   \n",
       "1657  much book spares tinseltown mockery although r...      2   \n",
       "1658  writer star bowfinger offers masses plenty goo...      1   \n",
       "1659  bowfinger latches onto idea immediately convin...      1   \n",
       "\n",
       "                                             vector_rep  \n",
       "0     [-0.043274872, 0.13555712, 0.0031807376, -0.02...  \n",
       "1     [-0.0827837, 0.056825243, -0.09836677, 0.01558...  \n",
       "2     [-0.105013736, 0.043996673, -0.100186825, 0.02...  \n",
       "3     [0.0011016836, 0.07213296, -0.24056295, 0.0744...  \n",
       "4     [0.028003514, 0.043497793, -0.04778112, -0.024...  \n",
       "...                                                 ...  \n",
       "1655  [-0.08198986, 0.06842123, -0.036075655, -0.046...  \n",
       "1656  [0.014995606, 0.08740837, 0.05923424, -0.04339...  \n",
       "1657  [-0.10096329, 0.1045848, 0.064322814, -0.05705...  \n",
       "1658  [0.053507973, 0.14204131, 0.0054865074, 0.0234...  \n",
       "1659  [0.060787957, 0.01967091, 0.0067951344, -0.060...  \n",
       "\n",
       "[1660 rows x 3 columns]"
      ]
     },
     "execution_count": 7,
     "metadata": {},
     "output_type": "execute_result"
    }
   ],
   "source": [
    "train_df"
   ]
  },
  {
   "cell_type": "markdown",
   "metadata": {},
   "source": [
    "### Reshape the datasets"
   ]
  },
  {
   "cell_type": "code",
   "execution_count": 8,
   "metadata": {},
   "outputs": [],
   "source": [
    "## Reshape the vectors for ML Models\n",
    "\n",
    "train_X=train_df['vector_rep'].to_numpy().reshape(-1,1)\n",
    "temp_tr=np.concatenate(train_X,axis=0)\n",
    "train_X=np.concatenate(temp_tr,axis=0)\n",
    "train_X=train_X.reshape(-1,300)\n",
    "\n",
    "test_X=test_df['vector_rep'].to_numpy().reshape(-1,1)\n",
    "temp_te=np.concatenate(test_X,axis=0)\n",
    "test_X=np.concatenate(temp_te,axis=0)\n",
    "test_X=test_X.reshape(-1,300)"
   ]
  },
  {
   "cell_type": "code",
   "execution_count": 9,
   "metadata": {},
   "outputs": [],
   "source": [
    "train_Y=train_df['label']\n",
    "test_Y=test_df['label']"
   ]
  },
  {
   "cell_type": "markdown",
   "metadata": {},
   "source": [
    "### ML Models"
   ]
  },
  {
   "cell_type": "code",
   "execution_count": 10,
   "metadata": {},
   "outputs": [
    {
     "name": "stdout",
     "output_type": "stream",
     "text": [
      "Accuracy 0.5695461200585652 \n",
      "\n",
      "Classification Report \n",
      "               precision    recall  f1-score   support\n",
      "\n",
      "           0       0.20      0.11      0.14        82\n",
      "           1       0.56      0.69      0.62       303\n",
      "           2       0.64      0.58      0.61       298\n",
      "\n",
      "    accuracy                           0.57       683\n",
      "   macro avg       0.47      0.46      0.46       683\n",
      "weighted avg       0.55      0.57      0.56       683\n",
      "\n"
     ]
    }
   ],
   "source": [
    "# Random Forest Classifier\n",
    "rfc=RandomForestClassifier(n_estimators=10,bootstrap=False,random_state=22)\n",
    "rfc.fit(train_X,train_Y)\n",
    "y_pred=rfc.predict(test_X)\n",
    "print('Accuracy %s \\n' % accuracy_score(y_pred, test_Y))\n",
    "print (\"Classification Report \\n\",classification_report(test_Y,y_pred))"
   ]
  },
  {
   "cell_type": "code",
   "execution_count": 21,
   "metadata": {},
   "outputs": [
    {
     "name": "stdout",
     "output_type": "stream",
     "text": [
      "Accuracy 0.5929721815519766 \n",
      "\n",
      "Classification Report \n",
      "               precision    recall  f1-score   support\n",
      "\n",
      "           0       0.26      0.18      0.21        82\n",
      "           1       0.59      0.67      0.63       303\n",
      "           2       0.66      0.62      0.64       298\n",
      "\n",
      "    accuracy                           0.59       683\n",
      "   macro avg       0.50      0.49      0.50       683\n",
      "weighted avg       0.58      0.59      0.59       683\n",
      "\n"
     ]
    }
   ],
   "source": [
    "# Support Vector Classifier\n",
    "svc=LinearSVC()\n",
    "svc.fit(train_X,train_Y)\n",
    "y_pred=svc.predict(test_X)\n",
    "print('Accuracy %s \\n' % accuracy_score(y_pred, test_Y))\n",
    "print (\"Classification Report \\n\",classification_report(test_Y,y_pred))"
   ]
  },
  {
   "cell_type": "code",
   "execution_count": 22,
   "metadata": {},
   "outputs": [],
   "source": [
    "## Here SVC performs better as compared to Random Forest and we consider SVC \n",
    "## Update the path based on location of testing data\n",
    "\n",
    "temp_df=pd.read_excel('P1_testing.xlsx')\n",
    "temp_df['predicted_label']=y_pred\n",
    "temp_df=temp_df.rename(columns={\"label\": \"golden_label\"})\n",
    "temp_df.to_csv(\"testing_output_Word2vec_Spacy.csv\")"
   ]
  }
 ],
 "metadata": {
  "kernelspec": {
   "display_name": "Python 3",
   "language": "python",
   "name": "python3"
  },
  "language_info": {
   "codemirror_mode": {
    "name": "ipython",
    "version": 3
   },
   "file_extension": ".py",
   "mimetype": "text/x-python",
   "name": "python",
   "nbconvert_exporter": "python",
   "pygments_lexer": "ipython3",
   "version": "3.7.6"
  }
 },
 "nbformat": 4,
 "nbformat_minor": 4
}
