{
 "cells": [
  {
   "cell_type": "markdown",
   "metadata": {},
   "source": [
    "# TFIDF + ML Models"
   ]
  },
  {
   "cell_type": "markdown",
   "metadata": {},
   "source": [
    "### Libraries"
   ]
  },
  {
   "cell_type": "code",
   "execution_count": 9,
   "metadata": {},
   "outputs": [],
   "source": [
    "## Download and import libraries\n",
    "\n",
    "import pandas as pd\n",
    "import numpy as np\n",
    "import nltk\n",
    "from sklearn.feature_extraction.text import TfidfVectorizer\n",
    "from sklearn.metrics import accuracy_score\n",
    "from sklearn.svm import LinearSVC\n",
    "from sklearn.ensemble import RandomForestClassifier\n",
    "from sklearn.model_selection import train_test_split\n",
    "from sklearn.metrics import classification_report\n",
    "from nltk.corpus import stopwords"
   ]
  },
  {
   "cell_type": "code",
   "execution_count": 10,
   "metadata": {},
   "outputs": [],
   "source": [
    "## Uncomment the below line to download if stopwords are missing \n",
    "#nltk.download('stopwords')\n",
    "from nltk.corpus import stopwords\n",
    "stop_words=stopwords.words('english')"
   ]
  },
  {
   "cell_type": "markdown",
   "metadata": {},
   "source": [
    "### Dataset"
   ]
  },
  {
   "cell_type": "code",
   "execution_count": 11,
   "metadata": {},
   "outputs": [
    {
     "data": {
      "text/html": [
       "<div>\n",
       "<style scoped>\n",
       "    .dataframe tbody tr th:only-of-type {\n",
       "        vertical-align: middle;\n",
       "    }\n",
       "\n",
       "    .dataframe tbody tr th {\n",
       "        vertical-align: top;\n",
       "    }\n",
       "\n",
       "    .dataframe thead th {\n",
       "        text-align: right;\n",
       "    }\n",
       "</style>\n",
       "<table border=\"1\" class=\"dataframe\">\n",
       "  <thead>\n",
       "    <tr style=\"text-align: right;\">\n",
       "      <th></th>\n",
       "      <th>sentence</th>\n",
       "      <th>label</th>\n",
       "    </tr>\n",
       "  </thead>\n",
       "  <tbody>\n",
       "    <tr>\n",
       "      <th>0</th>\n",
       "      <td>living in a concentration camp-like atmosphere...</td>\n",
       "      <td>1</td>\n",
       "    </tr>\n",
       "    <tr>\n",
       "      <th>1</th>\n",
       "      <td>there's even a nod to \" the blues brothers , \"...</td>\n",
       "      <td>1</td>\n",
       "    </tr>\n",
       "    <tr>\n",
       "      <th>2</th>\n",
       "      <td>park , lord , and screenwriter karey kirkpatri...</td>\n",
       "      <td>1</td>\n",
       "    </tr>\n",
       "    <tr>\n",
       "      <th>3</th>\n",
       "      <td>ginger is perfect , spunky and opinionated , b...</td>\n",
       "      <td>2</td>\n",
       "    </tr>\n",
       "    <tr>\n",
       "      <th>4</th>\n",
       "      <td>jane horrocks delivers a lovely voice characte...</td>\n",
       "      <td>2</td>\n",
       "    </tr>\n",
       "    <tr>\n",
       "      <th>...</th>\n",
       "      <td>...</td>\n",
       "      <td>...</td>\n",
       "    </tr>\n",
       "    <tr>\n",
       "      <th>1655</th>\n",
       "      <td>lin shae , who plays mary's neighbor magda ( a...</td>\n",
       "      <td>2</td>\n",
       "    </tr>\n",
       "    <tr>\n",
       "      <th>1656</th>\n",
       "      <td>steve martin took an extended vacation from al...</td>\n",
       "      <td>2</td>\n",
       "    </tr>\n",
       "    <tr>\n",
       "      <th>1657</th>\n",
       "      <td>much of the book spares tinseltown from mocker...</td>\n",
       "      <td>2</td>\n",
       "    </tr>\n",
       "    <tr>\n",
       "      <th>1658</th>\n",
       "      <td>now , as writer and star of bowfinger , he off...</td>\n",
       "      <td>1</td>\n",
       "    </tr>\n",
       "    <tr>\n",
       "      <th>1659</th>\n",
       "      <td>bowfinger latches onto the idea immediately , ...</td>\n",
       "      <td>1</td>\n",
       "    </tr>\n",
       "  </tbody>\n",
       "</table>\n",
       "<p>1660 rows × 2 columns</p>\n",
       "</div>"
      ],
      "text/plain": [
       "                                               sentence  label\n",
       "0     living in a concentration camp-like atmosphere...      1\n",
       "1     there's even a nod to \" the blues brothers , \"...      1\n",
       "2     park , lord , and screenwriter karey kirkpatri...      1\n",
       "3     ginger is perfect , spunky and opinionated , b...      2\n",
       "4     jane horrocks delivers a lovely voice characte...      2\n",
       "...                                                 ...    ...\n",
       "1655  lin shae , who plays mary's neighbor magda ( a...      2\n",
       "1656  steve martin took an extended vacation from al...      2\n",
       "1657  much of the book spares tinseltown from mocker...      2\n",
       "1658  now , as writer and star of bowfinger , he off...      1\n",
       "1659  bowfinger latches onto the idea immediately , ...      1\n",
       "\n",
       "[1660 rows x 2 columns]"
      ]
     },
     "execution_count": 11,
     "metadata": {},
     "output_type": "execute_result"
    }
   ],
   "source": [
    "## Read train and test dataset\n",
    "## Please provide the path where training and testing files exist\n",
    "\n",
    "train_df=pd.read_excel('P1_training.xlsx')\n",
    "test_df=pd.read_excel('P1_testing.xlsx')\n",
    "train_df"
   ]
  },
  {
   "cell_type": "markdown",
   "metadata": {},
   "source": [
    "### Preprocessing the Dataset"
   ]
  },
  {
   "cell_type": "code",
   "execution_count": 12,
   "metadata": {},
   "outputs": [
    {
     "data": {
      "text/html": [
       "<div>\n",
       "<style scoped>\n",
       "    .dataframe tbody tr th:only-of-type {\n",
       "        vertical-align: middle;\n",
       "    }\n",
       "\n",
       "    .dataframe tbody tr th {\n",
       "        vertical-align: top;\n",
       "    }\n",
       "\n",
       "    .dataframe thead th {\n",
       "        text-align: right;\n",
       "    }\n",
       "</style>\n",
       "<table border=\"1\" class=\"dataframe\">\n",
       "  <thead>\n",
       "    <tr style=\"text-align: right;\">\n",
       "      <th></th>\n",
       "      <th>sentence</th>\n",
       "      <th>label</th>\n",
       "    </tr>\n",
       "  </thead>\n",
       "  <tbody>\n",
       "    <tr>\n",
       "      <th>0</th>\n",
       "      <td>living concentration camplike atmosphere led o...</td>\n",
       "      <td>1</td>\n",
       "    </tr>\n",
       "    <tr>\n",
       "      <th>1</th>\n",
       "      <td>theres even nod blues brothers believe filmmak...</td>\n",
       "      <td>1</td>\n",
       "    </tr>\n",
       "    <tr>\n",
       "      <th>2</th>\n",
       "      <td>park lord screenwriter karey kirkpatrick reali...</td>\n",
       "      <td>1</td>\n",
       "    </tr>\n",
       "    <tr>\n",
       "      <th>3</th>\n",
       "      <td>ginger perfect spunky opinionated soft heart f...</td>\n",
       "      <td>2</td>\n",
       "    </tr>\n",
       "    <tr>\n",
       "      <th>4</th>\n",
       "      <td>jane horrocks delivers lovely voice characteri...</td>\n",
       "      <td>2</td>\n",
       "    </tr>\n",
       "    <tr>\n",
       "      <th>...</th>\n",
       "      <td>...</td>\n",
       "      <td>...</td>\n",
       "    </tr>\n",
       "    <tr>\n",
       "      <th>1655</th>\n",
       "      <td>lin shae plays marys neighbor magda also appea...</td>\n",
       "      <td>2</td>\n",
       "    </tr>\n",
       "    <tr>\n",
       "      <th>1656</th>\n",
       "      <td>steve martin took extended vacation facets mov...</td>\n",
       "      <td>2</td>\n",
       "    </tr>\n",
       "    <tr>\n",
       "      <th>1657</th>\n",
       "      <td>much book spares tinseltown mockery although r...</td>\n",
       "      <td>2</td>\n",
       "    </tr>\n",
       "    <tr>\n",
       "      <th>1658</th>\n",
       "      <td>writer star bowfinger offers masses plenty goo...</td>\n",
       "      <td>1</td>\n",
       "    </tr>\n",
       "    <tr>\n",
       "      <th>1659</th>\n",
       "      <td>bowfinger latches onto idea immediately convin...</td>\n",
       "      <td>1</td>\n",
       "    </tr>\n",
       "  </tbody>\n",
       "</table>\n",
       "<p>1660 rows × 2 columns</p>\n",
       "</div>"
      ],
      "text/plain": [
       "                                               sentence  label\n",
       "0     living concentration camplike atmosphere led o...      1\n",
       "1     theres even nod blues brothers believe filmmak...      1\n",
       "2     park lord screenwriter karey kirkpatrick reali...      1\n",
       "3     ginger perfect spunky opinionated soft heart f...      2\n",
       "4     jane horrocks delivers lovely voice characteri...      2\n",
       "...                                                 ...    ...\n",
       "1655  lin shae plays marys neighbor magda also appea...      2\n",
       "1656  steve martin took extended vacation facets mov...      2\n",
       "1657  much book spares tinseltown mockery although r...      2\n",
       "1658  writer star bowfinger offers masses plenty goo...      1\n",
       "1659  bowfinger latches onto idea immediately convin...      1\n",
       "\n",
       "[1660 rows x 2 columns]"
      ]
     },
     "execution_count": 12,
     "metadata": {},
     "output_type": "execute_result"
    }
   ],
   "source": [
    "## Cleaning the sentences for training and testing data\n",
    "## Removes punctuations and stopwords\n",
    "\n",
    "def get_tokens(sentence):\n",
    "    return sentence.split()\n",
    "\n",
    "def text_preprocessing(df):\n",
    "    df['sentence']=df['sentence'].str.lower()\n",
    "    df['sentence']=df['sentence'].str.replace('[^\\w\\s]','')\n",
    "    df['sentence'] = df['sentence'].apply(lambda x: ' '.join([word for word in get_tokens(x) if word not in (stop_words)]))\n",
    "    return df\n",
    "\n",
    "train_df=text_preprocessing(train_df)\n",
    "test_df=text_preprocessing(test_df)\n",
    "train_df    "
   ]
  },
  {
   "cell_type": "markdown",
   "metadata": {},
   "source": [
    "### Vectorize the data"
   ]
  },
  {
   "cell_type": "code",
   "execution_count": 13,
   "metadata": {},
   "outputs": [],
   "source": [
    "## TFIDF Vectors\n",
    "\n",
    "tfidf=TfidfVectorizer()\n",
    "X_train=train_df['sentence']\n",
    "Y_train=train_df['label']\n",
    "X_test=test_df['sentence']\n",
    "Y_test=test_df['label']\n",
    "\n",
    "## Vectorize the data\n",
    "X_train=tfidf.fit_transform(X_train)\n",
    "X_test=tfidf.transform(X_test)\n"
   ]
  },
  {
   "cell_type": "markdown",
   "metadata": {},
   "source": [
    "### ML Classifiers"
   ]
  },
  {
   "cell_type": "code",
   "execution_count": 24,
   "metadata": {},
   "outputs": [
    {
     "name": "stdout",
     "output_type": "stream",
     "text": [
      "Accuracy 0.5563689604685212 \n",
      "\n",
      "Classification Report \n",
      "               precision    recall  f1-score   support\n",
      "\n",
      "           0       0.17      0.02      0.04        82\n",
      "           1       0.55      0.63      0.59       303\n",
      "           2       0.58      0.63      0.60       298\n",
      "\n",
      "    accuracy                           0.56       683\n",
      "   macro avg       0.43      0.43      0.41       683\n",
      "weighted avg       0.52      0.56      0.53       683\n",
      "\n"
     ]
    }
   ],
   "source": [
    "# Random Forest Classifier\n",
    "rfc=RandomForestClassifier(n_estimators=15)\n",
    "rfc.fit(X_train,Y_train)\n",
    "y_pred=rfc.predict(X_test)\n",
    "print('Accuracy %s \\n' % accuracy_score(y_pred, Y_test))\n",
    "print (\"Classification Report \\n\",classification_report(Y_test,y_pred))"
   ]
  },
  {
   "cell_type": "code",
   "execution_count": 15,
   "metadata": {},
   "outputs": [
    {
     "name": "stdout",
     "output_type": "stream",
     "text": [
      "Accuracy 0.5724743777452416 \n",
      "\n",
      "Classification Report \n",
      "               precision    recall  f1-score   support\n",
      "\n",
      "           0       0.13      0.04      0.06        82\n",
      "           1       0.58      0.68      0.62       303\n",
      "           2       0.60      0.61      0.61       298\n",
      "\n",
      "    accuracy                           0.57       683\n",
      "   macro avg       0.44      0.44      0.43       683\n",
      "weighted avg       0.53      0.57      0.55       683\n",
      "\n"
     ]
    }
   ],
   "source": [
    "# Support Vector Classifier\n",
    "svc=LinearSVC()\n",
    "svc.fit(X_train,Y_train)\n",
    "y_pred=svc.predict(X_test)\n",
    "print('Accuracy %s \\n' % accuracy_score(y_pred, Y_test))\n",
    "print (\"Classification Report \\n\",classification_report(Y_test,y_pred))"
   ]
  },
  {
   "cell_type": "code",
   "execution_count": 8,
   "metadata": {},
   "outputs": [],
   "source": [
    "## Here SVC performs better as compared to Random Forest and we consider SVC \n",
    "## Please provide the path where testing file exist\n",
    "temp_df=pd.read_excel('P1_testing.xlsx')\n",
    "temp_df['predicted_label']=y_pred\n",
    "temp_df=temp_df.rename(columns={\"label\": \"golden_label\"})\n",
    "temp_df.to_csv(\"testing_output_TFIDF_SVC.csv\")"
   ]
  }
 ],
 "metadata": {
  "kernelspec": {
   "display_name": "Python 3",
   "language": "python",
   "name": "python3"
  },
  "language_info": {
   "codemirror_mode": {
    "name": "ipython",
    "version": 3
   },
   "file_extension": ".py",
   "mimetype": "text/x-python",
   "name": "python",
   "nbconvert_exporter": "python",
   "pygments_lexer": "ipython3",
   "version": "3.7.6"
  }
 },
 "nbformat": 4,
 "nbformat_minor": 4
}
